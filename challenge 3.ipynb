{
 "cells": [
  {
   "cell_type": "code",
   "execution_count": 52,
   "metadata": {},
   "outputs": [],
   "source": [
    "import pandas as pd\n",
    "\n",
    "data = pd.read_csv('input 4.txt', sep=\" \", header=None, converters={0: lambda x: str(x)})\n",
    "df = data"
   ]
  },
  {
   "cell_type": "code",
   "execution_count": 14,
   "metadata": {},
   "outputs": [
    {
     "data": {
      "text/html": [
       "<div>\n",
       "<style scoped>\n",
       "    .dataframe tbody tr th:only-of-type {\n",
       "        vertical-align: middle;\n",
       "    }\n",
       "\n",
       "    .dataframe tbody tr th {\n",
       "        vertical-align: top;\n",
       "    }\n",
       "\n",
       "    .dataframe thead th {\n",
       "        text-align: right;\n",
       "    }\n",
       "</style>\n",
       "<table border=\"1\" class=\"dataframe\">\n",
       "  <thead>\n",
       "    <tr style=\"text-align: right;\">\n",
       "      <th></th>\n",
       "      <th>0</th>\n",
       "    </tr>\n",
       "  </thead>\n",
       "  <tbody>\n",
       "    <tr>\n",
       "      <th>0</th>\n",
       "      <td>000110010001</td>\n",
       "    </tr>\n",
       "    <tr>\n",
       "      <th>1</th>\n",
       "      <td>101000110000</td>\n",
       "    </tr>\n",
       "    <tr>\n",
       "      <th>2</th>\n",
       "      <td>000110010111</td>\n",
       "    </tr>\n",
       "    <tr>\n",
       "      <th>3</th>\n",
       "      <td>100011100010</td>\n",
       "    </tr>\n",
       "    <tr>\n",
       "      <th>4</th>\n",
       "      <td>111001100001</td>\n",
       "    </tr>\n",
       "    <tr>\n",
       "      <th>...</th>\n",
       "      <td>...</td>\n",
       "    </tr>\n",
       "    <tr>\n",
       "      <th>995</th>\n",
       "      <td>000010010001</td>\n",
       "    </tr>\n",
       "    <tr>\n",
       "      <th>996</th>\n",
       "      <td>101010101110</td>\n",
       "    </tr>\n",
       "    <tr>\n",
       "      <th>997</th>\n",
       "      <td>111100111111</td>\n",
       "    </tr>\n",
       "    <tr>\n",
       "      <th>998</th>\n",
       "      <td>000010100010</td>\n",
       "    </tr>\n",
       "    <tr>\n",
       "      <th>999</th>\n",
       "      <td>011010111101</td>\n",
       "    </tr>\n",
       "  </tbody>\n",
       "</table>\n",
       "<p>1000 rows × 1 columns</p>\n",
       "</div>"
      ],
      "text/plain": [
       "                0\n",
       "0    000110010001\n",
       "1    101000110000\n",
       "2    000110010111\n",
       "3    100011100010\n",
       "4    111001100001\n",
       "..            ...\n",
       "995  000010010001\n",
       "996  101010101110\n",
       "997  111100111111\n",
       "998  000010100010\n",
       "999  011010111101\n",
       "\n",
       "[1000 rows x 1 columns]"
      ]
     },
     "execution_count": 14,
     "metadata": {},
     "output_type": "execute_result"
    }
   ],
   "source": [
    "data "
   ]
  },
  {
   "cell_type": "code",
   "execution_count": 30,
   "metadata": {},
   "outputs": [
    {
     "data": {
      "text/plain": [
       "935"
      ]
     },
     "execution_count": 30,
     "metadata": {},
     "output_type": "execute_result"
    }
   ],
   "source": [
    "zero_bits = 0\n",
    "one_bits = {}\n",
    "gamma =''\n",
    "for count, row in data.iterrows():\n",
    "    for i in range(len(row[0])):\n",
    "        if i not in one_bits:\n",
    "            one_bits[i] = 0\n",
    "        one_bits[i] +=int(row[0][i])\n",
    "\n",
    "    # gamma +=\n",
    "for value in one_bits.values():\n",
    "    if value>500:\n",
    "        gamma+='1'\n",
    "    else:\n",
    "        gamma +='0'\n",
    "\n",
    "a = int(gamma, 2)\n",
    "a"
   ]
  },
  {
   "cell_type": "code",
   "execution_count": 31,
   "metadata": {},
   "outputs": [
    {
     "data": {
      "text/plain": [
       "3160"
      ]
     },
     "execution_count": 31,
     "metadata": {},
     "output_type": "execute_result"
    }
   ],
   "source": [
    "zero_bits = 0\n",
    "one_bits = {}\n",
    "gamma = ''\n",
    "for count, row in data.iterrows():\n",
    "    for i in range(len(row[0])):\n",
    "        if i not in one_bits:\n",
    "            one_bits[i] = 0\n",
    "        one_bits[i] += int(row[0][i])\n",
    "\n",
    "    # gamma +=\n",
    "for value in one_bits.values():\n",
    "    if value < 500:\n",
    "        gamma += '1'\n",
    "    else:\n",
    "        gamma += '0'\n",
    "\n",
    "a = int(gamma, 2)\n",
    "a"
   ]
  },
  {
   "cell_type": "code",
   "execution_count": 32,
   "metadata": {},
   "outputs": [
    {
     "data": {
      "text/plain": [
       "2954600"
      ]
     },
     "execution_count": 32,
     "metadata": {},
     "output_type": "execute_result"
    }
   ],
   "source": [
    "935*3160"
   ]
  },
  {
   "cell_type": "code",
   "execution_count": 4,
   "metadata": {},
   "outputs": [],
   "source": [
    "import numpy as np\n",
    "\n",
    "txt = np.loadtxt('input 4.txt')"
   ]
  },
  {
   "cell_type": "code",
   "execution_count": 73,
   "metadata": {},
   "outputs": [
    {
     "data": {
      "text/plain": [
       "0      000110010001\n",
       "2      000110010111\n",
       "5      001010001010\n",
       "6      010100100101\n",
       "7      011000010000\n",
       "           ...     \n",
       "993    001001001111\n",
       "994    011000110100\n",
       "995    000010010001\n",
       "998    000010100010\n",
       "999    011010111101\n",
       "Name: 0, Length: 511, dtype: object"
      ]
     },
     "execution_count": 73,
     "metadata": {},
     "output_type": "execute_result"
    }
   ],
   "source": [
    "def check_digit(series, place, number):\n",
    "    index = []\n",
    "    for i in series.iteritems():\n",
    "        # print(i[1])\n",
    "        # break\n",
    "        if int(i[1][place]) == number:\n",
    "            index.append(i[0])\n",
    "    return index\n",
    "\n",
    "data = df.copy()[0]\n",
    "# check_digit(data,0,0)\n",
    "data.loc[check_digit(data,0,0)]"
   ]
  },
  {
   "cell_type": "code",
   "execution_count": 42,
   "metadata": {},
   "outputs": [
    {
     "name": "stdout",
     "output_type": "stream",
     "text": [
      "0\n"
     ]
    }
   ],
   "source": [
    "for i in data.iteritems():\n",
    "    print(i[0])\n",
    "    break"
   ]
  },
  {
   "cell_type": "code",
   "execution_count": 91,
   "metadata": {},
   "outputs": [
    {
     "data": {
      "text/plain": [
       "573"
      ]
     },
     "execution_count": 91,
     "metadata": {},
     "output_type": "execute_result"
    }
   ],
   "source": [
    "#most common\n",
    "data = df.copy()[0]\n",
    "zero_bits = 0\n",
    "one_bits = {}\n",
    "gamma = ''\n",
    "i=0\n",
    "# for i in range(len(data[0][0])):\n",
    "while True:\n",
    "\n",
    "    ones = 0\n",
    "    for count, row in data.iteritems():\n",
    "        ones += int(row[i])\n",
    "    if ones >= data.shape[0]/2:\n",
    "        data = data.loc[check_digit(data, i, 1)]\n",
    "    else:\n",
    "        data = data.loc[check_digit(data, i, 0)]\n",
    "    i += 1\n",
    "    if i > 12 or data.shape[0] == 1:\n",
    "        break\n",
    "    # print(data)\n",
    "    # gamma +=\n",
    "# for value in one_bits.values():\n",
    "#     if value >= 500:\n",
    "#         gamma += '1'\n",
    "#     else:\n",
    "#         gamma += '0'\n",
    "\n",
    "# a = int(gamma, 2)\n",
    "data\n",
    "a = int(data.iloc[0], 2)\n",
    "a"
   ]
  },
  {
   "cell_type": "code",
   "execution_count": 94,
   "metadata": {},
   "outputs": [
    {
     "data": {
      "text/plain": [
       "2902"
      ]
     },
     "execution_count": 94,
     "metadata": {},
     "output_type": "execute_result"
    }
   ],
   "source": [
    "#most common\n",
    "data = df.copy()[0]\n",
    "zero_bits = 0\n",
    "one_bits = {}\n",
    "gamma = ''\n",
    "i=0\n",
    "# for i in range(len(data[0][0])):\n",
    "while True:\n",
    "\n",
    "    ones = 0\n",
    "    for count, row in data.iteritems():\n",
    "        ones += int(row[i])\n",
    "    if ones < data.shape[0]/2:\n",
    "        data = data.loc[check_digit(data, i, 1)]\n",
    "    else:\n",
    "        data = data.loc[check_digit(data, i, 0)]\n",
    "    i += 1\n",
    "    if i > 12 or data.shape[0] == 1:\n",
    "        break\n",
    "    # print(data)\n",
    "    # gamma +=\n",
    "# for value in one_bits.values():\n",
    "#     if value >= 500:\n",
    "#         gamma += '1'\n",
    "#     else:\n",
    "#         gamma += '0'\n",
    "\n",
    "# a = int(gamma, 2)\n",
    "data\n",
    "a = int(data.iloc[0], 2)\n",
    "a"
   ]
  },
  {
   "cell_type": "code",
   "execution_count": 95,
   "metadata": {},
   "outputs": [
    {
     "data": {
      "text/plain": [
       "1662846"
      ]
     },
     "execution_count": 95,
     "metadata": {},
     "output_type": "execute_result"
    }
   ],
   "source": [
    "2902*573"
   ]
  },
  {
   "cell_type": "code",
   "execution_count": 75,
   "metadata": {},
   "outputs": [
    {
     "data": {
      "text/plain": [
       "0      000110010001\n",
       "2      000110010111\n",
       "5      001010001010\n",
       "6      010100100101\n",
       "7      011000010000\n",
       "           ...     \n",
       "993    001001001111\n",
       "994    011000110100\n",
       "995    000010010001\n",
       "998    000010100010\n",
       "999    011010111101\n",
       "Name: 0, Length: 511, dtype: object"
      ]
     },
     "execution_count": 75,
     "metadata": {},
     "output_type": "execute_result"
    }
   ],
   "source": [
    "data"
   ]
  },
  {
   "cell_type": "code",
   "execution_count": 33,
   "metadata": {},
   "outputs": [
    {
     "data": {
      "text/plain": [
       "1000"
      ]
     },
     "execution_count": 33,
     "metadata": {},
     "output_type": "execute_result"
    }
   ],
   "source": [
    "data.shape[0]"
   ]
  },
  {
   "cell_type": "code",
   "execution_count": null,
   "metadata": {},
   "outputs": [],
   "source": []
  }
 ],
 "metadata": {
  "interpreter": {
   "hash": "79ee92f60ffe45c2eaed0e231ff59efcb2fec85c2d5b8c1f60acb0bd5501f65c"
  },
  "kernelspec": {
   "display_name": "Python 3.8.12 64-bit ('lewagon': pyenv)",
   "language": "python",
   "name": "python3"
  },
  "language_info": {
   "codemirror_mode": {
    "name": "ipython",
    "version": 3
   },
   "file_extension": ".py",
   "mimetype": "text/x-python",
   "name": "python",
   "nbconvert_exporter": "python",
   "pygments_lexer": "ipython3",
   "version": "3.8.12"
  },
  "orig_nbformat": 4
 },
 "nbformat": 4,
 "nbformat_minor": 2
}
